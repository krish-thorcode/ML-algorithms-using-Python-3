{
 "cells": [
  {
   "cell_type": "code",
   "execution_count": 10,
   "metadata": {},
   "outputs": [],
   "source": [
    "import numpy as np, pandas as pd\n",
    "import matplotlib.pyplot as plt\n",
    "\n",
    "# def plot_cost_function(J, num_of_iterations):\n",
    "#     plt.plot(J, num_of_iterations)\n",
    "\n",
    "# def compute_cost(m, error):\n",
    "#     return (1/(2*m)) * sum(error**2)\n",
    "\n",
    "# def gradient_descent(theta, alpha, num_of_iterations, X, Y, m):\n",
    "\n",
    "#     J = np.array([])\n",
    "\n",
    "#     for i in range(num_of_iterations):\n",
    "#         htheta = X.dot(theta)\n",
    "#         error = htheta - Y\n",
    "\n",
    "#         theta = theta - (1/m) * np.dot(X.T, error)\n",
    "\n",
    "#         np.append(J,compute_cost(m, error)) # although cost function in itself is defined to calculate cost using m, X, Y and theta, having calculated error allows us to save some time\n",
    "\n",
    "#     return theta, J"
   ]
  },
  {
   "cell_type": "code",
   "execution_count": 11,
   "metadata": {},
   "outputs": [],
   "source": [
    "def main():\n",
    "    dataframe = pd.read_csv('data.csv', header = None)\n",
    "    print(type(data))\n",
    "    data = dataframe.values # converting pd dataframe to np array, this consists features + labels\n",
    "    print(type(data))\n",
    "\n",
    "    X = data[:, 0] # extracting the features as numpy arrays\n",
    "    Y = data[:, 1] # extracting the labels as numpy arrays\n",
    "\n",
    "    num_of_rows_in_X = (X.shape)[0]\n",
    "    num_of_rows_in_Y = num_of_rows_in_X\n",
    "\n",
    "    X = X.reshape(num_of_rows_in_X, 1)\n",
    "    Y = Y.reshape(num_of_rows_in_Y, 1)\n",
    "    print('X.shape: ', X.shape)\n",
    "    print('Y.shape: ', Y.shape)\n",
    "\n",
    "    ones = np.ones(shape = (num_of_rows_in_X, 1))\n",
    "\n",
    "    X_with_bias = np.concatenate([ones, X], axis = 1)\n",
    "    m = (X_with_bias.shape)[0]\n",
    "    print(X)\n",
    "\n",
    "    alpha = 0.0001 # learning rate\n",
    "    num_of_iterations = 1000\n",
    "    # our liner model: htheta = (theta0) + (theta1)*x => htheta = transpose(theta)*vector(1,x)\n",
    "    # more often we set initial theta0 and theta1 values to 0\n",
    "    theta  = np.zeros(shape=(2,1)) # initialising the parameters\n"
   ]
  },
  {
   "cell_type": "code",
   "execution_count": 12,
   "metadata": {},
   "outputs": [
    {
     "ename": "UnboundLocalError",
     "evalue": "local variable 'data' referenced before assignment",
     "output_type": "error",
     "traceback": [
      "\u001b[0;31m---------------------------------------------------------------------------\u001b[0m",
      "\u001b[0;31mUnboundLocalError\u001b[0m                         Traceback (most recent call last)",
      "\u001b[0;32m<ipython-input-12-0670ff4bc505>\u001b[0m in \u001b[0;36m<module>\u001b[0;34m()\u001b[0m\n\u001b[1;32m      6\u001b[0m \u001b[0;34m\u001b[0m\u001b[0m\n\u001b[1;32m      7\u001b[0m \u001b[0;32mif\u001b[0m \u001b[0m__name__\u001b[0m \u001b[0;34m==\u001b[0m \u001b[0;34m'__main__'\u001b[0m\u001b[0;34m:\u001b[0m\u001b[0;34m\u001b[0m\u001b[0m\n\u001b[0;32m----> 8\u001b[0;31m     \u001b[0mmain\u001b[0m\u001b[0;34m(\u001b[0m\u001b[0;34m)\u001b[0m\u001b[0;34m\u001b[0m\u001b[0m\n\u001b[0m",
      "\u001b[0;32m<ipython-input-11-9d8ed3f1b8fb>\u001b[0m in \u001b[0;36mmain\u001b[0;34m()\u001b[0m\n\u001b[1;32m      1\u001b[0m \u001b[0;32mdef\u001b[0m \u001b[0mmain\u001b[0m\u001b[0;34m(\u001b[0m\u001b[0;34m)\u001b[0m\u001b[0;34m:\u001b[0m\u001b[0;34m\u001b[0m\u001b[0m\n\u001b[1;32m      2\u001b[0m     \u001b[0mdataframe\u001b[0m \u001b[0;34m=\u001b[0m \u001b[0mpd\u001b[0m\u001b[0;34m.\u001b[0m\u001b[0mread_csv\u001b[0m\u001b[0;34m(\u001b[0m\u001b[0;34m'data.csv'\u001b[0m\u001b[0;34m,\u001b[0m \u001b[0mheader\u001b[0m \u001b[0;34m=\u001b[0m \u001b[0;32mNone\u001b[0m\u001b[0;34m)\u001b[0m\u001b[0;34m\u001b[0m\u001b[0m\n\u001b[0;32m----> 3\u001b[0;31m     \u001b[0mprint\u001b[0m\u001b[0;34m(\u001b[0m\u001b[0mtype\u001b[0m\u001b[0;34m(\u001b[0m\u001b[0mdata\u001b[0m\u001b[0;34m)\u001b[0m\u001b[0;34m)\u001b[0m\u001b[0;34m\u001b[0m\u001b[0m\n\u001b[0m\u001b[1;32m      4\u001b[0m     \u001b[0mdata\u001b[0m \u001b[0;34m=\u001b[0m \u001b[0mdataframe\u001b[0m\u001b[0;34m.\u001b[0m\u001b[0mvalues\u001b[0m \u001b[0;31m# converting pd dataframe to np array, this consists features + labels\u001b[0m\u001b[0;34m\u001b[0m\u001b[0m\n\u001b[1;32m      5\u001b[0m     \u001b[0mprint\u001b[0m\u001b[0;34m(\u001b[0m\u001b[0mtype\u001b[0m\u001b[0;34m(\u001b[0m\u001b[0mdata\u001b[0m\u001b[0;34m)\u001b[0m\u001b[0;34m)\u001b[0m\u001b[0;34m\u001b[0m\u001b[0m\n",
      "\u001b[0;31mUnboundLocalError\u001b[0m: local variable 'data' referenced before assignment"
     ]
    }
   ],
   "source": [
    "#     theta, J = gradient_descent(theta, alpha, num_of_iterations, X_with_bias, Y, m)\n",
    "\n",
    "#     print(theta)\n",
    "\n",
    "#     plot_cost_function(J, num_of_iterations)\n",
    "\n",
    "if __name__ == '__main__':\n",
    "    main()"
   ]
  }
 ],
 "metadata": {
  "kernelspec": {
   "display_name": "Python 3",
   "language": "python",
   "name": "python3"
  },
  "language_info": {
   "codemirror_mode": {
    "name": "ipython",
    "version": 3
   },
   "file_extension": ".py",
   "mimetype": "text/x-python",
   "name": "python",
   "nbconvert_exporter": "python",
   "pygments_lexer": "ipython3",
   "version": "3.6.5"
  }
 },
 "nbformat": 4,
 "nbformat_minor": 2
}
