{
 "cells": [
  {
   "cell_type": "markdown",
   "metadata": {},
   "source": [
    "Making imports"
   ]
  },
  {
   "cell_type": "code",
   "execution_count": 242,
   "metadata": {},
   "outputs": [],
   "source": [
    "import numpy as np, pandas as pd, matplotlib.pyplot as plt"
   ]
  },
  {
   "cell_type": "code",
   "execution_count": 243,
   "metadata": {},
   "outputs": [],
   "source": [
    "J = np.array([])"
   ]
  },
  {
   "cell_type": "code",
   "execution_count": 244,
   "metadata": {},
   "outputs": [],
   "source": [
    "def gradient_descent(m, theta, alpha, num_of_iterations, X, Y):\n",
    "    global J\n",
    "    for i in range(num_of_iterations):\n",
    "        htheta_vector = np.dot(X,theta)\n",
    "        error_vector = htheta_vector - Y\n",
    "        gradient = (1/m) * (np.dot(X.T, error_vector))\n",
    "        theta = theta - alpha * gradient\n",
    "        \n",
    "        X_unbiased = np.delete(X, 0, axis=1)\n",
    "        \n",
    "#         plt.scatter(X_unbiased,Y)\n",
    "\n",
    "#         x_axis = np.linspace(0, 80, 1000)\n",
    "#         htheta = theta[0] + theta[1] * x_axis\n",
    "    \n",
    "#         plt.plot(x_axis, htheta)\n",
    "#         plt.show()\n",
    "\n",
    "    return theta"
   ]
  },
  {
   "cell_type": "code",
   "execution_count": 245,
   "metadata": {},
   "outputs": [
    {
     "name": "stdout",
     "output_type": "stream",
     "text": [
      "[[0.05905856]\n",
      " [1.47833133]]\n"
     ]
    },
    {
     "data": {
      "image/png": "[encoded data removed]",
      "text/plain": [
       "<Figure size 432x288 with 1 Axes>"
      ]
     },
     "metadata": {},
     "output_type": "display_data"
    }
   ],
   "source": [
    "def main():\n",
    "    df = pd.read_csv('data.csv', header = None)\n",
    "    data = df.values\n",
    "    \n",
    "    X = data[:, 0]\n",
    "    Y = data[:,1]\n",
    "    \n",
    "    m = (X.shape)[0]\n",
    "    \n",
    "    X = X.reshape(m,1)\n",
    "    Y = Y.reshape(m,1)\n",
    "    \n",
    "    ones = np.ones(shape = (m,1))\n",
    "#     print('X: \\n' + str(X), 'Y: \\n' + str(Y), sep = '\\n')\n",
    "\n",
    "    X_with_bias = np.concatenate([ones, X], axis = 1)\n",
    "#     print(X_with_bias)\n",
    "    \n",
    "    theta = np.zeros(shape = (2,1))\n",
    "#     print(theta)\n",
    "\n",
    "    alpha = 0.0001\n",
    "    num_of_iterations = 1000\n",
    "    \n",
    "    theta = gradient_descent(m, theta, alpha, num_of_iterations, X_with_bias, Y)\n",
    "    print(theta)\n",
    "    \n",
    "    plt.scatter(X,Y)\n",
    "    \n",
    "    x_axis = np.linspace(0, 80, 1000)\n",
    "    htheta = theta[0] + theta[1] * x_axis\n",
    "    \n",
    "    plt.plot(x_axis, htheta)\n",
    "    plt.show()\n",
    "    \n",
    "if __name__ == '__main__':\n",
    "    main()"
   ]
  }
 ],
 "metadata": {
  "kernelspec": {
   "display_name": "Python 3",
   "language": "python",
   "name": "python3"
  },
  "language_info": {
   "codemirror_mode": {
    "name": "ipython",
    "version": 3
   },
   "file_extension": ".py",
   "mimetype": "text/x-python",
   "name": "python",
   "nbconvert_exporter": "python",
   "pygments_lexer": "ipython3",
   "version": "3.6.5"
  }
 },
 "nbformat": 4,
 "nbformat_minor": 2
}
