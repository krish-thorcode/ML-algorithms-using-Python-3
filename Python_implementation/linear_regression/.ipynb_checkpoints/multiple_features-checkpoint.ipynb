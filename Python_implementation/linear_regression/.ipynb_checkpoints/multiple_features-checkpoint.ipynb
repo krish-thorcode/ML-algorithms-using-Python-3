{
 "cells": [
  {
   "cell_type": "markdown",
   "metadata": {},
   "source": [
    "# Imports"
   ]
  },
  {
   "cell_type": "code",
   "execution_count": 36,
   "metadata": {},
   "outputs": [],
   "source": [
    "import numpy as np\n",
    "import pandas as pd\n",
    "import matplotlib.pyplot as plt"
   ]
  },
  {
   "cell_type": "markdown",
   "metadata": {},
   "source": [
    "# Model Preparation"
   ]
  },
  {
   "cell_type": "markdown",
   "metadata": {},
   "source": [
    "## Plot hypothesis (currently doesn't work, guess have to learn 3d plotting)"
   ]
  },
  {
   "cell_type": "code",
   "execution_count": 37,
   "metadata": {},
   "outputs": [],
   "source": [
    "# def plot_hypothesis(theta, X, Y, x_axis, title):# plot hypothesis wrt number of iterations"
   ]
  },
  {
   "cell_type": "markdown",
   "metadata": {},
   "source": [
    "## Plot cost function (currently doesn't work, guess have to learn 3d plotting)"
   ]
  },
  {
   "cell_type": "code",
   "execution_count": 38,
   "metadata": {},
   "outputs": [],
   "source": [
    "# def plot_cost(): # yet to be done"
   ]
  },
  {
   "cell_type": "markdown",
   "metadata": {},
   "source": [
    "## Feature normalization\n",
    "#### Feature normalization is needed because the size of the house is in orders of thousands while the number of rooms are mostly integers under 5"
   ]
  },
  {
   "cell_type": "code",
   "execution_count": 39,
   "metadata": {},
   "outputs": [],
   "source": [
    "def mean_normalization(X):\n",
    "    \n",
    "    mean = np.mean(X, axis = 0) # find mean across vertical axis\n",
    "    X_temp = (X - mean)\n",
    "    \n",
    "    std = np.std(X, axis = 0)\n",
    "    X_normalized = X_temp/std\n",
    "    \n",
    "    return X_normalized"
   ]
  },
  {
   "cell_type": "markdown",
   "metadata": {},
   "source": [
    "## Compute cost"
   ]
  },
  {
   "cell_type": "code",
   "execution_count": 40,
   "metadata": {},
   "outputs": [],
   "source": [
    "def compute_cost(m, error):\n",
    "    return (1/(2*m)) * np.sum(error**2)"
   ]
  },
  {
   "cell_type": "markdown",
   "metadata": {},
   "source": [
    "## Gradient descent"
   ]
  },
  {
   "cell_type": "code",
   "execution_count": 41,
   "metadata": {},
   "outputs": [],
   "source": [
    "def gradient_descent(m, theta, alpha, num_of_iterations, X, Y):\n",
    "\n",
    "    for i in range(num_of_iterations):\n",
    "        htheta_vector = np.dot(X,theta)\n",
    "        error_vector = htheta_vector - Y\n",
    "        gradient_vector = (1/m) * (np.dot(X.T, error_vector)) # each element in gradient_vector corresponds to each theta\n",
    "        theta = theta - alpha * gradient_vector\n",
    "    \n",
    "    return theta"
   ]
  },
  {
   "cell_type": "markdown",
   "metadata": {},
   "source": [
    "# Main"
   ]
  },
  {
   "cell_type": "code",
   "execution_count": 42,
   "metadata": {},
   "outputs": [
    {
     "name": "stdout",
     "output_type": "stream",
     "text": [
      "(3519, 2)\n",
      "   ENGINE_SIZE  FUELCONSUMPTION_COMB\n",
      "0          1.8                   8.8\n",
      "1          1.8                   8.4\n",
      "2          1.8                   8.3\n",
      "3          3.2                  10.9\n",
      "4          3.2                  11.3\n",
      "Parameters learned: [[0.09916053]\n",
      " [0.0381528 ]\n",
      " [0.98017091]]\n"
     ]
    }
   ],
   "source": [
    "def main():\n",
    "    df = pd.read_csv('dataset/data.csv') #loading data\n",
    "#     print(df.head())\n",
    "    df = df.loc[:, ['ENGINE_SIZE', 'FUELCONSUMPTION_COMB']]\n",
    "    print(df.shape)\n",
    "    print(df.head())\n",
    "    \n",
    "    data = df.values # converting dataframe to numpy array\n",
    "    \n",
    "    X = data[:, 0:2]\n",
    "    \n",
    "#     X = mean_normalization(X)\n",
    "#     print(X)\n",
    "    Y = data[:, -1]\n",
    "    \n",
    "    m = (X.shape)[0] # number of training examples\n",
    "    \n",
    "    Y = Y.reshape(m, 1)\n",
    "\n",
    "    ones = np.ones(shape = (m,1))\n",
    "    X_with_bias = np.concatenate([ones, X], axis = 1)\n",
    "    \n",
    "    theta = np.zeros(shape = (3,1)) # two features, so three parameters\n",
    "    \n",
    "    alpha = 0.01\n",
    "    num_of_iterations = 400\n",
    "    \n",
    "    theta = gradient_descent(m, theta, alpha, num_of_iterations, X_with_bias, Y) # calling gradient descent\n",
    "    print('Parameters learned: ' + str(theta))\n",
    "    \n",
    "# plot function yet to be done, needs 3d plot I guess\n",
    "\n",
    "if __name__ == '__main__':\n",
    "    main()"
   ]
  }
 ],
 "metadata": {
  "kernelspec": {
   "display_name": "Python 3",
   "language": "python",
   "name": "python3"
  },
  "language_info": {
   "codemirror_mode": {
    "name": "ipython",
    "version": 3
   },
   "file_extension": ".py",
   "mimetype": "text/x-python",
   "name": "python",
   "nbconvert_exporter": "python",
   "pygments_lexer": "ipython3",
   "version": "3.6.5"
  }
 },
 "nbformat": 4,
 "nbformat_minor": 2
}
