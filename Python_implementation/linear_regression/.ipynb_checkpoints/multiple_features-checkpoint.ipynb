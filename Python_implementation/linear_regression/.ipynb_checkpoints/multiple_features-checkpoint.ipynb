{
 "cells": [
  {
   "cell_type": "markdown",
   "metadata": {},
   "source": [
    "# Imports"
   ]
  },
  {
   "cell_type": "code",
   "execution_count": 1,
   "metadata": {},
   "outputs": [],
   "source": [
    "import numpy as np\n",
    "import pandas as pd\n",
    "import matplotlib.pyplot as plt"
   ]
  },
  {
   "cell_type": "markdown",
   "metadata": {},
   "source": [
    "# Model Preparation"
   ]
  },
  {
   "cell_type": "markdown",
   "metadata": {},
   "source": [
    "## Gradient descent"
   ]
  },
  {
   "cell_type": "markdown",
   "metadata": {},
   "source": [
    "# Main"
   ]
  },
  {
   "cell_type": "code",
   "execution_count": 2,
   "metadata": {},
   "outputs": [
    {
     "name": "stdout",
     "output_type": "stream",
     "text": [
      "[[  2104      3 399900]\n",
      " [  1600      3 329900]\n",
      " [  2400      3 369000]\n",
      " [  1416      2 232000]\n",
      " [  3000      4 539900]\n",
      " [  1985      4 299900]\n",
      " [  1534      3 314900]\n",
      " [  1427      3 198999]\n",
      " [  1380      3 212000]\n",
      " [  1494      3 242500]\n",
      " [  1940      4 239999]\n",
      " [  2000      3 347000]\n",
      " [  1890      3 329999]\n",
      " [  4478      5 699900]\n",
      " [  1268      3 259900]\n",
      " [  2300      4 449900]\n",
      " [  1320      2 299900]\n",
      " [  1236      3 199900]\n",
      " [  2609      4 499998]\n",
      " [  3031      4 599000]\n",
      " [  1767      3 252900]\n",
      " [  1888      2 255000]\n",
      " [  1604      3 242900]\n",
      " [  1962      4 259900]\n",
      " [  3890      3 573900]\n",
      " [  1100      3 249900]\n",
      " [  1458      3 464500]\n",
      " [  2526      3 469000]\n",
      " [  2200      3 475000]\n",
      " [  2637      3 299900]\n",
      " [  1839      2 349900]\n",
      " [  1000      1 169900]\n",
      " [  2040      4 314900]\n",
      " [  3137      3 579900]\n",
      " [  1811      4 285900]\n",
      " [  1437      3 249900]\n",
      " [  1239      3 229900]\n",
      " [  2132      4 345000]\n",
      " [  4215      4 549000]\n",
      " [  2162      4 287000]\n",
      " [  1664      2 368500]\n",
      " [  2238      3 329900]\n",
      " [  2567      4 314000]\n",
      " [  1200      3 299000]\n",
      " [   852      2 179900]\n",
      " [  1852      4 299900]\n",
      " [  1203      3 239500]]\n",
      "[399900 329900 369000 232000 539900 299900 314900 198999 212000 242500\n",
      " 239999 347000 329999 699900 259900 449900 299900 199900 499998 599000\n",
      " 252900 255000 242900 259900 573900 249900 464500 469000 475000 299900\n",
      " 349900 169900 314900 579900 285900 249900 229900 345000 549000 287000\n",
      " 368500 329900 314000 299000 179900 299900 239500]\n"
     ]
    }
   ],
   "source": [
    "def main():\n",
    "    df = pd.read_csv('data2.csv', header = None) #loading data\n",
    "    data = df.values # converting dataframe to numpy array\n",
    "    \n",
    "    X = data[:, 0:3]\n",
    "    Y = data[:, -1]\n",
    "    print(X, Y, sep = '\\n')\n",
    "    \n",
    "\n",
    "if __name__ == '__main__':\n",
    "    main()"
   ]
  }
 ],
 "metadata": {
  "kernelspec": {
   "display_name": "Python 3",
   "language": "python",
   "name": "python3"
  },
  "language_info": {
   "codemirror_mode": {
    "name": "ipython",
    "version": 3
   },
   "file_extension": ".py",
   "mimetype": "text/x-python",
   "name": "python",
   "nbconvert_exporter": "python",
   "pygments_lexer": "ipython3",
   "version": "3.6.5"
  }
 },
 "nbformat": 4,
 "nbformat_minor": 2
}
