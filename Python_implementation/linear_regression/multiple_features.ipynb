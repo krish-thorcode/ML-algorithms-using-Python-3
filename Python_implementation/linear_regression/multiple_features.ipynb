{
 "cells": [
  {
   "cell_type": "markdown",
   "metadata": {},
   "source": [
    "# Imports"
   ]
  },
  {
   "cell_type": "code",
   "execution_count": 11,
   "metadata": {},
   "outputs": [],
   "source": [
    "import numpy as np\n",
    "import pandas as pd\n",
    "import matplotlib.pyplot as plt"
   ]
  },
  {
   "cell_type": "markdown",
   "metadata": {},
   "source": [
    "# Model Preparation"
   ]
  },
  {
   "cell_type": "markdown",
   "metadata": {},
   "source": [
    "## Plot hypothesis"
   ]
  },
  {
   "cell_type": "code",
   "execution_count": null,
   "metadata": {},
   "outputs": [],
   "source": [
    "def plot_hypothesis(theta, X, Y, x_axis, title):# plot hypothesis wrt number of iterations\n",
    "    \n",
    "    plt.scatter(X, Y) #plotting the data points\n",
    "    \n",
    "    htheta = theta[0] + theta[1] * x_axis"
   ]
  },
  {
   "cell_type": "markdown",
   "metadata": {},
   "source": [
    "## Compute cost"
   ]
  },
  {
   "cell_type": "code",
   "execution_count": null,
   "metadata": {},
   "outputs": [],
   "source": [
    "def compute_cost(m, error):\n",
    "    return (1/(2*m)) * np.sum(error**2)"
   ]
  },
  {
   "cell_type": "markdown",
   "metadata": {},
   "source": [
    "## Gradient descent"
   ]
  },
  {
   "cell_type": "code",
   "execution_count": null,
   "metadata": {},
   "outputs": [],
   "source": [
    "def gradient_descent(m, theta, alpha, num_of_iterations, X, Y):\n",
    "    \n",
    "    J = []\n",
    "    for i in range(num_of_iterations):\n",
    "        htheta_vector = np.dot(X, theta)\n",
    "        error_vector = htheta_vector - Y\n",
    "\n",
    "        gradient_vector = (1/m) * (np.dot(X.T, error_vector)) # each element in gradient_vector corresponds to each theta\n",
    "        theta = theta - alpha * gradient_vector\n",
    "        \n",
    "        J.append(compute_cost(m, error))\n",
    "        \n",
    "#         X_unbiased = np.delete(X, 0, axis=1)\n",
    "#         x_axis = np.linspace(0, 80, 1000)\n",
    "#         title = 'Intermediate model'\n",
    "#         plot_hypothesis(theta, X_unbiased, Y, x_axis, title)\n",
    "\n",
    "\n",
    "    "
   ]
  },
  {
   "cell_type": "markdown",
   "metadata": {},
   "source": [
    "# Main"
   ]
  },
  {
   "cell_type": "code",
   "execution_count": 12,
   "metadata": {},
   "outputs": [
    {
     "name": "stdout",
     "output_type": "stream",
     "text": [
      "(47, 2)\n",
      "(47, 1)\n"
     ]
    }
   ],
   "source": [
    "def main():\n",
    "    df = pd.read_csv('data2.csv', header = None) #loading data\n",
    "    data = df.values # converting dataframe to numpy array\n",
    "    \n",
    "    X = data[:, 0:2]\n",
    "#     print(X.shape)\n",
    "    Y = data[:, -1]\n",
    "    \n",
    "    m = (X.shape)[0] # number of training examples\n",
    "    \n",
    "    Y = Y.reshape(m, 1)\n",
    "#     print(Y.shape)\n",
    "    ones = np.ones(shape = (m,1))\n",
    "    X_with_bias = np.concatenate(ones, X, axis = 1)\n",
    "    \n",
    "    theta = np.zeros(shape = (3,1)) # two features, so three parameters\n",
    "    \n",
    "    alpha = 0.01\n",
    "    num_of_iterations = 400\n",
    "    \n",
    "    theta = gradient_descent(m, theta, alpha, num_of_iterations, X_with_bias, Y) # calling gradient descent\n",
    "    print('Parameters learned: ' + theta)\n",
    "\n",
    "if __name__ == '__main__':\n",
    "    main()"
   ]
  }
 ],
 "metadata": {
  "kernelspec": {
   "display_name": "Python 3",
   "language": "python",
   "name": "python3"
  },
  "language_info": {
   "codemirror_mode": {
    "name": "ipython",
    "version": 3
   },
   "file_extension": ".py",
   "mimetype": "text/x-python",
   "name": "python",
   "nbconvert_exporter": "python",
   "pygments_lexer": "ipython3",
   "version": "3.6.5"
  }
 },
 "nbformat": 4,
 "nbformat_minor": 2
}
