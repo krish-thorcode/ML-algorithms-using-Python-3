{
 "cells": [
  {
   "cell_type": "markdown",
   "metadata": {},
   "source": [
    "# Imports"
   ]
  },
  {
   "cell_type": "code",
   "execution_count": 223,
   "metadata": {},
   "outputs": [],
   "source": [
    "import numpy as np\n",
    "import matplotlib.pyplot as plt\n",
    "from pandas import read_csv\n",
    "from scipy import optimize as opt"
   ]
  },
  {
   "cell_type": "markdown",
   "metadata": {},
   "source": [
    "# Model Preparation"
   ]
  },
  {
   "cell_type": "markdown",
   "metadata": {},
   "source": [
    "## Plot data"
   ]
  },
  {
   "cell_type": "code",
   "execution_count": 224,
   "metadata": {},
   "outputs": [],
   "source": [
    "def plot_data(X, Y, m):\n",
    "    positive_indices = Y == 1\n",
    "    negative_indices = Y == 0\n",
    "    \n",
    "    positive_indices = positive_indices.flatten()\n",
    "    negative_indices = negative_indices.flatten()\n",
    "    \n",
    "    positive_examples = X[positive_indices]\n",
    "    negative_examples = X[negative_indices]\n",
    "    \n",
    "    plt.scatter(positive_examples[:, 0], positive_examples[:, 1], label = 'Positive examples', marker = 'o', color = 'green')\n",
    "    plt.scatter(negative_examples[:, 0], negative_examples[:, 1], label = 'Negative examples', marker = 'x', color = 'red')\n",
    "    \n",
    "    plt.xlabel('First feature')\n",
    "    plt.ylabel('Second feature')\n",
    "    \n",
    "    plt.legend(bbox_to_anchor = (1,1))\n",
    "    plt.show()\n",
    "    "
   ]
  },
  {
   "cell_type": "markdown",
   "metadata": {},
   "source": [
    "## Sigmoid function"
   ]
  },
  {
   "cell_type": "code",
   "execution_count": 225,
   "metadata": {},
   "outputs": [],
   "source": [
    "def sigmoid(z):\n",
    "    return 1/(1+np.exp(-z))"
   ]
  },
  {
   "cell_type": "markdown",
   "metadata": {},
   "source": [
    "## Cost computation sub-routine"
   ]
  },
  {
   "cell_type": "code",
   "execution_count": 226,
   "metadata": {},
   "outputs": [],
   "source": [
    "def compute_cost(theta, X, Y, lambda_reg, m):\n",
    "    \n",
    "    htheta_vector = sigmoid(np.dot(X, theta))\n",
    "    \n",
    "    J = (-1/m) * np.sum((Y * np.log(htheta_vector)) + ((1-Y) * np.log(1-htheta_vector)))\n",
    "    \n",
    "    J = J + ((lambda_reg/(2*m)) * np.sum(theta[1:]**2)) # regularizing the cost\n",
    "    \n",
    "    return J"
   ]
  },
  {
   "cell_type": "markdown",
   "metadata": {},
   "source": [
    "## Gradient computation sub-routine"
   ]
  },
  {
   "cell_type": "code",
   "execution_count": 227,
   "metadata": {},
   "outputs": [],
   "source": [
    "def compute_gradient(theta, X, Y, lambda_reg, m):\n",
    "    \n",
    "    htheta_vector = sigmoid(np.dot(X,theta))\n",
    "    \n",
    "    error_vector = htheta_vector - Y\n",
    "    \n",
    "    gradient_vector = (1/m) * np.dot(X.T, error_vector)\n",
    "    \n",
    "    return gradient_vector.flatten()\n",
    "    "
   ]
  },
  {
   "cell_type": "markdown",
   "metadata": {},
   "source": [
    "## Decision boundary"
   ]
  },
  {
   "cell_type": "code",
   "execution_count": null,
   "metadata": {},
   "outputs": [],
   "source": [
    "def plot_decision_boundary():\n",
    "    pass # implementation to be done later"
   ]
  },
  {
   "cell_type": "markdown",
   "metadata": {},
   "source": [
    "## Main function"
   ]
  },
  {
   "cell_type": "code",
   "execution_count": 228,
   "metadata": {},
   "outputs": [],
   "source": [
    "def main():\n",
    "    df = read_csv('data2.csv', header = None)\n",
    "    \n",
    "    data = df.values\n",
    "    \n",
    "    X = data[:, 0:2]\n",
    "    m = X.shape[0]\n",
    "    n = X.shape[1]\n",
    "    \n",
    "    Y = data[:,-1]\n",
    "    Y = Y.reshape(m, 1)\n",
    "#     print('Y:\\n' + str(Y))\n",
    "    \n",
    "    plot_data(X, Y, m)\n",
    "    \n",
    "    ones = np.ones(shape = (m,1))\n",
    "    X_with_bias = np.concatenate([ones, X], axis = 1)\n",
    "#     print('Biased X:\\n' + str(X_with_bias))\n",
    "    \n",
    "    lambda_reg = 1 # regularization factor\n",
    "    \n",
    "    theta = np.zeros(shape = (n+1,1))\n",
    "    \n",
    "    J = compute_cost(theta, X_with_bias, Y, lambda_reg, m)\n",
    "    gradient = compute_gradient(theta, X_with_bias, Y, lambda_reg, m)\n",
    "    print('The cost is: ' + str(J))\n",
    "    \n",
    "    result = opt.minimize(compute_cost, theta.flatten(), args = (X_with_bias, Y.flatten(), lambda_reg, m), method = None, jac = compute_gradient, options={'maxiter':400})\n",
    "\n",
    "    theta = result['x']\n",
    "    print('Optimum theta: ' + str(theta))\n",
    "    \n",
    "    plot_decision_boundary() # to be implemented\n",
    "    "
   ]
  },
  {
   "cell_type": "code",
   "execution_count": 229,
   "metadata": {},
   "outputs": [
    {
     "data": {
      "image/png": "[encoded data removed]",
      "text/plain": [
       "<Figure size 432x288 with 1 Axes>"
      ]
     },
     "metadata": {},
     "output_type": "display_data"
    },
    {
     "name": "stdout",
     "output_type": "stream",
     "text": [
      "The cost is: 0.6931471805599454\n",
      "Optimum theta: [-0.01213421 -0.3001537  -0.01484668]\n"
     ]
    }
   ],
   "source": [
    "if __name__ == '__main__':\n",
    "    main()"
   ]
  }
 ],
 "metadata": {
  "kernelspec": {
   "display_name": "Python 3",
   "language": "python",
   "name": "python3"
  },
  "language_info": {
   "codemirror_mode": {
    "name": "ipython",
    "version": 3
   },
   "file_extension": ".py",
   "mimetype": "text/x-python",
   "name": "python",
   "nbconvert_exporter": "python",
   "pygments_lexer": "ipython3",
   "version": "3.6.5"
  }
 },
 "nbformat": 4,
 "nbformat_minor": 2
}
