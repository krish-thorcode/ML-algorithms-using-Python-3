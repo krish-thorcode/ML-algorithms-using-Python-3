{
 "cells": [
  {
   "cell_type": "markdown",
   "metadata": {},
   "source": [
    "# Imports"
   ]
  },
  {
   "cell_type": "code",
   "execution_count": 58,
   "metadata": {},
   "outputs": [],
   "source": [
    "import numpy as np\n",
    "import matplotlib.pyplot as plt\n",
    "from pandas import read_csv # only read_csv method is going to be used"
   ]
  },
  {
   "cell_type": "markdown",
   "metadata": {},
   "source": [
    "# Model Preparation"
   ]
  },
  {
   "cell_type": "markdown",
   "metadata": {},
   "source": [
    "## Plot data"
   ]
  },
  {
   "cell_type": "code",
   "execution_count": 59,
   "metadata": {},
   "outputs": [],
   "source": [
    "def plot_data(X, Y, m):\n",
    "    \n",
    "    positive_indices = Y>0\n",
    "#     print('+ indices: \\n' + str(positive_indices))\n",
    "    positive_indices = positive_indices.reshape(m, )\n",
    "    positive_example_features = X[positive_indices]\n",
    "#     print('+ features: ' + str(positive_example_features))\n",
    "\n",
    "    negative_indices = Y == 0\n",
    "#     print(' - indices:\\n' + str(negative_indices))\n",
    "    negative_indices = negative_indices.reshape(m, )\n",
    "    negative_example_features = X[negative_indices]\n",
    "#     print('-ve features:\\n' + str(negative_example_features))\n",
    "    \n",
    "    plt.scatter(positive_example_features[:, 0], positive_example_features[:, 1], label = 'Positive examples', marker = 'o', color = 'green')\n",
    "#     print(positive_example_features[:, 0])\n",
    "    \n",
    "    plt.xlabel('Feature 1')\n",
    "    plt.ylabel('Feature 2')\n",
    "    plt.title('Features from the given dataset')\n",
    "    plt.scatter(negative_example_features[:, 0], negative_example_features[:, 1], label = 'Negative examples', marker = 'x', color = 'red')\n",
    "#     print(negative_example_features[:, 0])\n",
    "\n",
    "    plt.legend(loc = 'right')\n",
    "    plt.show()\n",
    "      "
   ]
  },
  {
   "cell_type": "markdown",
   "metadata": {},
   "source": [
    "## Main function"
   ]
  },
  {
   "cell_type": "code",
   "execution_count": 60,
   "metadata": {},
   "outputs": [],
   "source": [
    "def main():\n",
    "    df = read_csv('data1.csv', header = None)\n",
    "    data = df.values #numpy array\n",
    "    \n",
    "    X = data[:,0:2] # extracting features\n",
    "    Y = data[:,-1] # extracting labels\n",
    "    \n",
    "    m = (X.shape)[0] # number of training examples\n",
    "    \n",
    "    ones = np.ones(shape = (m,1))\n",
    "    X_with_bias = np.concatenate([ones, X], axis = 1)\n",
    "#     print(X_with_bias)\n",
    "\n",
    "    Y.reshape(m,1)\n",
    "#     print(Y.shape)\n",
    "\n",
    "    plot_data(X,Y, m)\n",
    "    \n",
    "    \n",
    "    \n",
    "    \n",
    "    "
   ]
  },
  {
   "cell_type": "code",
   "execution_count": 61,
   "metadata": {},
   "outputs": [
    {
     "data": {
      "image/png": "[encoded data removed]",
      "text/plain": [
       "<Figure size 432x288 with 1 Axes>"
      ]
     },
     "metadata": {},
     "output_type": "display_data"
    }
   ],
   "source": [
    "if __name__ == '__main__':\n",
    "    main()"
   ]
  }
 ],
 "metadata": {
  "kernelspec": {
   "display_name": "Python 3",
   "language": "python",
   "name": "python3"
  },
  "language_info": {
   "codemirror_mode": {
    "name": "ipython",
    "version": 3
   },
   "file_extension": ".py",
   "mimetype": "text/x-python",
   "name": "python",
   "nbconvert_exporter": "python",
   "pygments_lexer": "ipython3",
   "version": "3.6.5"
  }
 },
 "nbformat": 4,
 "nbformat_minor": 2
}
