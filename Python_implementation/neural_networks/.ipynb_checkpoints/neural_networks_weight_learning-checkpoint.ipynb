{
 "cells": [
  {
   "cell_type": "markdown",
   "metadata": {},
   "source": [
    "# Imports "
   ]
  },
  {
   "cell_type": "code",
   "execution_count": 80,
   "metadata": {},
   "outputs": [],
   "source": [
    "import numpy as np\n",
    "import scipy.optimize as opt\n",
    "from scipy.io import loadmat"
   ]
  },
  {
   "cell_type": "markdown",
   "metadata": {},
   "source": [
    "### Presetting numpy to print the entire array instead of printing something like [1 2 3 ... 9 9 9]"
   ]
  },
  {
   "cell_type": "code",
   "execution_count": 81,
   "metadata": {},
   "outputs": [],
   "source": [
    "np.set_printoptions(threshold = np.nan)"
   ]
  },
  {
   "cell_type": "markdown",
   "metadata": {},
   "source": [
    "# Model Preparation"
   ]
  },
  {
   "cell_type": "markdown",
   "metadata": {},
   "source": [
    "## Plot data\n",
    "#### To be implemented later"
   ]
  },
  {
   "cell_type": "code",
   "execution_count": 82,
   "metadata": {},
   "outputs": [],
   "source": [
    "def plot_data(X, Y):\n",
    "    pass"
   ]
  },
  {
   "cell_type": "markdown",
   "metadata": {},
   "source": [
    "## Random initializer for weight matrices of the neural network"
   ]
  },
  {
   "cell_type": "code",
   "execution_count": 83,
   "metadata": {},
   "outputs": [],
   "source": [
    "def randomly_initialize(num_rows, num_cols):\n",
    "    return np.random.rand(num_rows, num_cols)"
   ]
  },
  {
   "cell_type": "markdown",
   "metadata": {},
   "source": [
    "## Sigmoid function"
   ]
  },
  {
   "cell_type": "code",
   "execution_count": 84,
   "metadata": {},
   "outputs": [],
   "source": [
    "def sigmoid(z):\n",
    "    return 1/(1+np.exp(-z))"
   ]
  },
  {
   "cell_type": "markdown",
   "metadata": {},
   "source": [
    "## Gradient of Sigmoid function:"
   ]
  },
  {
   "cell_type": "code",
   "execution_count": 85,
   "metadata": {},
   "outputs": [],
   "source": [
    "def sigmoid_gradient(z):\n",
    "    g_of_z = 1/(1+np.exp(-z))\n",
    "    return g_of_z * (1-g_of_z)"
   ]
  },
  {
   "cell_type": "markdown",
   "metadata": {},
   "source": [
    "## Compute cost"
   ]
  },
  {
   "cell_type": "code",
   "execution_count": 86,
   "metadata": {},
   "outputs": [],
   "source": [
    "def compute_cost(X, Y, theta1, theta2, lambda_reg = 0):\n",
    "    \n",
    "    m = X.shape[0]\n",
    "    n = X.shape[1]\n",
    "    \n",
    "    # A row vector of ones, number of rows = m\n",
    "    bias_units = np.ones(shape = (m, 1))\n",
    "    \n",
    "    a1 = X\n",
    "    a1_biased = np.concatenate([bias_units, a1], axis = 1)\n",
    "    \n",
    "    # the matrix multiplication to obtain the weighted inputs to the nerual units, should be done so that \\\n",
    "    # the number of columns in the pdt is equal to the number of units as this is how the convention goes \\\n",
    "    # for eg, the input layer has units equal to the number of features which can be thought activation of the 1st \\\n",
    "    # layer wherein no operations on the inputs are being done by the units\n",
    "    z2 = np.dot(a1_biased, theta1.T)\n",
    "    a2 = sigmoid(z2)\n",
    "    \n",
    "    a2_biased = np.concatenate([bias_units, a2], axis = 1)\n",
    "    z3 = np.dot(a2_biased, theta2.T)\n",
    "    a3 = sigmoid(z3)\n",
    "    \n",
    "    Y_matrix = np.zeros(shape = (5000, 10))\n",
    "    \n",
    "    Y_flat = Y.flatten()\n",
    "    \n",
    "    # converting labels into label vector, for eg, if label = 3, generate vector = [0 0 1 0 0 0 0 0 0 0] \\\n",
    "    # and store it as a row in 2d numpy array Y_matrix so that entry of each row can be element-wie multiplied \\\n",
    "    # with the predictions made by the units in the output layer for each example which (the predictions for each \\\n",
    "    # example) also form a row of the prediction matrix corresponding to the entire training set\n",
    "    for i in range(5000):\n",
    "        Y_matrix[i][Y_flat[i]-1] = 1\n",
    "                   \n",
    "#     print('Y_matrix:\\n' + str(Y_matrix))\n",
    "            \n",
    "    htheta = a3\n",
    "#     print(htheta)\n",
    "\n",
    "    # Just the one np.sum() returns the sum of cost for each unit and for each example because np.sum() sums all \\\n",
    "    # the entries of the matrix given\n",
    "    J = (-1/m) * np.sum(Y_matrix * np.log(htheta) + (1-Y_matrix) * np.log(1-htheta)) \\\n",
    "        + (lambda_reg/(2*m)) * (np.sum(theta1[1:,:]**2) + np.sum(theta2[1:,:]**2))\n",
    "    \n",
    "    return J"
   ]
  },
  {
   "cell_type": "markdown",
   "metadata": {},
   "source": [
    "## Backpropagation algorithm"
   ]
  },
  {
   "cell_type": "code",
   "execution_count": 87,
   "metadata": {},
   "outputs": [],
   "source": [
    "def backpropagation(X, Y, theta1, theta2, lambda_reg = 0):\n",
    "    \n",
    "#     print('theta1.shape: ' + str(theta1.shape))\n",
    "#     print('theta2.shape: ' + str(theta2.shape))\n",
    "    \n",
    "    m = X.shape[0]\n",
    "    n = X.shape[1]\n",
    "    print('m: ' + str(m), 'n: ' + str(n))\n",
    "    \n",
    "    a1 = X\n",
    "    \n",
    "    bias_units = np.ones(shape = (m, 1))\n",
    "    \n",
    "    a1_biased = np.concatenate([bias_units, a1], axis = 1)\n",
    "    \n",
    "    z2 = np.dot(a1_biased, theta1.T)\n",
    "    a2 = sigmoid(z2)\n",
    "    \n",
    "    a2_biased = np.concatenate([bias_units, a2], axis = 1)\n",
    "    \n",
    "    z3 = np.dot(a2_biased, theta2.T)\n",
    "    a3 = sigmoid(z3)\n",
    "    \n",
    "    htheta = a3 # htheta is a row vector\n",
    "    print('htheta: ' + str(htheta.shape))\n",
    "    \n",
    "    Y_matrix = np.zeros(shape = (5000, 10))\n",
    "    \n",
    "    Y_flat = Y.flatten()\n",
    "    \n",
    "    for i in range(5000):\n",
    "        Y_matrix[i][Y_flat[i]-1] = 1\n",
    "    \n",
    "    delta_accumulator1 = 0\n",
    "    delta_accumulator2 = 0\n",
    "    \n",
    "    delta3 = htheta - Y_matrix\n",
    "    print('delta3.shape: ' + str(delta3.shape))\n",
    "    \n",
    "    delta2 = (np.dot(delta3, theta2[:,1:])) * sigmoid_gradient(z2)\n",
    "    print('delta2.shape: ' + str(delta2.shape))\n",
    "    \n",
    "    delta_accumulator1 = delta_accumulator1 + np.dot(delta2.T, a1)\n",
    "    delta_accumulator2 = delta_accumulator2 + np.dot(delta3.T, a2)\n",
    "    print('delta_accumulator1.shape: ' + str(delta_accumulator1.shape))\n",
    "    print('delta_accumulator2.shape: ' + str(delta_accumulator2.shape))\n",
    "    \n",
    "    D1 = (1/m)*delta_accumulator1 + (lambda_reg/m)*theta1[:, 1:]\n",
    "    D2 = (1/m)*delta_accumulator2 + (lambda_reg/m)*theta2[:, 1:]\n",
    "    \n",
    "    print('D1.shape: ' + str(D1.shape))\n",
    "    print('D2.shape: ' + str(D2.shape))\n",
    "    \n",
    "    unrolled_D1 = D1.flatten()\n",
    "    unrolled_D2 = D2.flatten()\n",
    "    \n",
    "    return unrolled_D1, unrolled_D2"
   ]
  },
  {
   "cell_type": "markdown",
   "metadata": {},
   "source": [
    "## Main"
   ]
  },
  {
   "cell_type": "code",
   "execution_count": 88,
   "metadata": {},
   "outputs": [
    {
     "ename": "SyntaxError",
     "evalue": "positional argument follows keyword argument (<ipython-input-88-7d44ae3540f3>, line 48)",
     "output_type": "error",
     "traceback": [
      "\u001b[0;36m  File \u001b[0;32m\"<ipython-input-88-7d44ae3540f3>\"\u001b[0;36m, line \u001b[0;32m48\u001b[0m\n\u001b[0;31m    results =  opt.minimize(compute_cost, x0 = weights_unrolled,                             args=(np.concatenate([np.ones(shape=m,1), X], axis = 1), Y.flatten(), theta1, theta2),                            method = None, options={'disp': True, 'maxiter': 50}, method=\"L-BFGS-B\", jac=True)\u001b[0m\n\u001b[0m                                                                                                                                  ^\u001b[0m\n\u001b[0;31mSyntaxError\u001b[0m\u001b[0;31m:\u001b[0m positional argument follows keyword argument\n"
     ]
    }
   ],
   "source": [
    "def main():\n",
    "    mat = loadmat('data4.mat')\n",
    "#     print(mat)\n",
    "\n",
    "    X = mat['X']\n",
    "    Y = mat['y']\n",
    "    plot_data(X, Y)\n",
    "#     print('Y:\\n' + str(Y))\n",
    "#     print('X.shape: ' + str(X.shape))\n",
    "#     print('Y.shape: ' + str(Y.shape))\n",
    "    \n",
    "    m = X.shape[0]\n",
    "    n = X.shape[1]\n",
    "    \n",
    "    weights_mat = loadmat('weights2_nn.mat')\n",
    "#     print(weights_mat)\n",
    "\n",
    "    theta1 = weights_mat['Theta1']\n",
    "    theta2 = weights_mat['Theta2']\n",
    "    \n",
    "    # shape of each of theta1 and theta2 gives the number of units in each layer\n",
    "#     print('theta1.shape: ' + str(theta1.shape))\n",
    "#     print('theta2.shape: ' + str(theta2.shape))\n",
    "    \n",
    "    J_without_regularization = compute_cost(X, Y, theta1, theta2)\n",
    "    print('Without regularization, J: ' + str(J_without_regularization))\n",
    "    \n",
    "    lambda_reg = 1\n",
    "    J_regularized = compute_cost(X, Y, theta1, theta2, lambda_reg)\n",
    "    print('With regularization: ' + str(J_regularized))\n",
    "    \n",
    "    #Backpropagation starts below, learning weights for the neural network\n",
    "    \n",
    "    num_input_units = 400\n",
    "    num_hidden_layer_units = 25\n",
    "    num_output_units = 10\n",
    "    \n",
    "    # initialise the weights randomly for symmetry breaking\n",
    "    init_epsilon = 0.12 # recommended in the assignment handout\n",
    "    theta1 = randomly_initialize(num_hidden_layer_units, num_input_units + 1) * 2 * init_epsilon - init_epsilon\n",
    "    theta2 = randomly_initialize(num_output_units, num_hidden_layer_units + 1) * 2 * init_epsilon - init_epsilon\n",
    "#     print('theta1 random:\\n'+str(theta1))\n",
    "#     print()\n",
    "#     print('theta2 random:\\n'+str(theta2))\n",
    "    \n",
    "    weights_unrolled = np.concatenate([theta1.flatten(), theta2.flatten()])\n",
    "    X_with_bias = np.concatenate([np.ones(m, 1)], axis = 1)\n",
    "    results = opt.minimize(compute_cost, theta.flatten(), args=(X_with_bias, Y.flatten(), theta1, theta2, ), method=None, jac=backpropagation, options={'maxiter':50})\n",
    "    "
   ]
  },
  {
   "cell_type": "code",
   "execution_count": null,
   "metadata": {},
   "outputs": [],
   "source": [
    "if __name__ == '__main__':\n",
    "    main()"
   ]
  }
 ],
 "metadata": {
  "kernelspec": {
   "display_name": "Python 3",
   "language": "python",
   "name": "python3"
  },
  "language_info": {
   "codemirror_mode": {
    "name": "ipython",
    "version": 3
   },
   "file_extension": ".py",
   "mimetype": "text/x-python",
   "name": "python",
   "nbconvert_exporter": "python",
   "pygments_lexer": "ipython3",
   "version": "3.6.5"
  }
 },
 "nbformat": 4,
 "nbformat_minor": 2
}
