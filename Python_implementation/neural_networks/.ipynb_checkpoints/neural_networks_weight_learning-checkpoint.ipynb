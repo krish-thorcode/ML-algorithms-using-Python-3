{
 "cells": [
  {
   "cell_type": "markdown",
   "metadata": {},
   "source": [
    "# Imports "
   ]
  },
  {
   "cell_type": "code",
   "execution_count": 154,
   "metadata": {},
   "outputs": [],
   "source": [
    "import numpy as np\n",
    "from scipy.io import loadmat"
   ]
  },
  {
   "cell_type": "markdown",
   "metadata": {},
   "source": [
    "### Presetting numpy to print the entire array instead of printing something like [1 2 3 ... 9 9 9]"
   ]
  },
  {
   "cell_type": "code",
   "execution_count": 155,
   "metadata": {},
   "outputs": [],
   "source": [
    "np.set_printoptions(threshold = np.nan)"
   ]
  },
  {
   "cell_type": "markdown",
   "metadata": {},
   "source": [
    "# Model Preparation"
   ]
  },
  {
   "cell_type": "markdown",
   "metadata": {},
   "source": [
    "## Plot data\n",
    "#### To be implemented later"
   ]
  },
  {
   "cell_type": "code",
   "execution_count": 156,
   "metadata": {},
   "outputs": [],
   "source": [
    "def plot_data(X, Y):\n",
    "    pass"
   ]
  },
  {
   "cell_type": "markdown",
   "metadata": {},
   "source": [
    "## Random initializer for weight matrices of the neural network"
   ]
  },
  {
   "cell_type": "code",
   "execution_count": 157,
   "metadata": {},
   "outputs": [],
   "source": [
    "def randomly_initialize(num_rows, num_cols):\n",
    "    return np.random.rand(num_rows, num_cols)"
   ]
  },
  {
   "cell_type": "markdown",
   "metadata": {},
   "source": [
    "## Sigmoid function"
   ]
  },
  {
   "cell_type": "code",
   "execution_count": 158,
   "metadata": {},
   "outputs": [],
   "source": [
    "def sigmoid(z):\n",
    "    return 1/(1+np.exp(-z))"
   ]
  },
  {
   "cell_type": "markdown",
   "metadata": {},
   "source": [
    "## Gradient of Sigmoid function:"
   ]
  },
  {
   "cell_type": "code",
   "execution_count": 159,
   "metadata": {},
   "outputs": [],
   "source": [
    "def sigmoid_gradient(z):\n",
    "    g_of_z = 1/(1+np.exp(-z))\n",
    "    return g_of_z * (1-g_of_z)"
   ]
  },
  {
   "cell_type": "markdown",
   "metadata": {},
   "source": [
    "## Compute cost"
   ]
  },
  {
   "cell_type": "code",
   "execution_count": 160,
   "metadata": {},
   "outputs": [],
   "source": [
    "def compute_cost(X, Y, theta1, theta2, lambda_reg = 0):\n",
    "    \n",
    "    m = X.shape[0]\n",
    "    n = X.shape[1]\n",
    "    \n",
    "    # Res\n",
    "    \n",
    "    bias_units = np.ones(shape = (m, 1))\n",
    "    \n",
    "    a1 = X\n",
    "    a1_biased = np.concatenate([bias_units, a1], axis = 1)\n",
    "    \n",
    "    # the matrix multiplication to obtain the weighted inputs to the nerual units, should be done so that \\\n",
    "    # the number of columns in the pdt is equal to the number of units as this is how the convention goes \\\n",
    "    # for eg, the input layer has units equal to the number of features which are like activation of the 1st layer\n",
    "    z2 = np.dot(a1_biased, theta1.T)\n",
    "    a2 = sigmoid(z2)\n",
    "    \n",
    "    a2_biased = np.concatenate([bias_units, a2], axis = 1)\n",
    "    z3 = np.dot(a2_biased, theta2.T)\n",
    "    a3 = sigmoid(z3)\n",
    "    \n",
    "    Y_matrix = np.zeros(shape = (5000, 10))\n",
    "    \n",
    "    Y_flat = Y.flatten()\n",
    "    \n",
    "    # converting labels into label vector, for eg, if label = 3, generate vector = [0 0 1 0 0 0 0 0 0 0] \\\n",
    "    # and store it as a row in 2d numpy array Y_matrix so that entry of each row can be element-wie multiplied \\\n",
    "    # with the predictions made by the units in the output layer for each example which (the predictions for each \\\n",
    "    # example) also form a row of the prediction matrix corresponding to the entire training set\n",
    "    for i in range(5000):\n",
    "        Y_matrix[i][Y_flat[i]-1] = 1\n",
    "                   \n",
    "#     print('Y_matrix:\\n' + str(Y_matrix))\n",
    "            \n",
    "    \n",
    "    htheta = a3\n",
    "#     print(htheta)\n",
    "\n",
    "    # Just the one np.sum() returns the sum of cost for each unit and for each example because np.sum() sums all \\\n",
    "    # the entries of the matrix given\n",
    "    J = (-1/m) * np.sum(Y_matrix * np.log(htheta) + (1-Y_matrix) * np.log(1-htheta)) \\\n",
    "        + (lambda_reg/(2*m)) * (np.sum(theta1[1:,:]**2) + np.sum(theta2[1:,:]**2))\n",
    "    \n",
    "    return J"
   ]
  },
  {
   "cell_type": "markdown",
   "metadata": {},
   "source": [
    "## Backpropagation algorithm"
   ]
  },
  {
   "cell_type": "code",
   "execution_count": null,
   "metadata": {},
   "outputs": [],
   "source": [
    "def backpropagation():"
   ]
  },
  {
   "cell_type": "markdown",
   "metadata": {},
   "source": [
    "## Main"
   ]
  },
  {
   "cell_type": "code",
   "execution_count": 161,
   "metadata": {},
   "outputs": [],
   "source": [
    "def main():\n",
    "    mat = loadmat('data4.mat')\n",
    "#     print(mat)\n",
    "\n",
    "    X = mat['X']\n",
    "    Y = mat['y']\n",
    "    plot_data(X, Y)\n",
    "#     print('Y:\\n' + str(Y))\n",
    "#     print('X.shape: ' + str(X.shape))\n",
    "#     print('Y.shape: ' + str(Y.shape))\n",
    "    \n",
    "#     m = X.shape[0]\n",
    "#     n = X.shape[1]\n",
    "    \n",
    "    weights_mat = loadmat('weights2_nn.mat')\n",
    "#     print(weights_mat)\n",
    "\n",
    "    theta1 = weights_mat['Theta1']\n",
    "    theta2 = weights_mat['Theta2']\n",
    "    \n",
    "    # shape of each of theta1 and theta2 gives the number of units in each layer\n",
    "    print('theta1.shape: ' + str(theta1.shape))\n",
    "    print('theta2.shape: ' + str(theta2.shape))\n",
    "    \n",
    "    J_without_regularization = compute_cost(X, Y, theta1, theta2)\n",
    "    print('Without regularization, J: ' + str(J_without_regularization))\n",
    "    \n",
    "    lambda_reg = 1\n",
    "    J_regularized = compute_cost(X, Y, theta1, theta2, lambda_reg)\n",
    "    print('With regularization: ' + str(J_regularized))\n",
    "    \n",
    "    #Backpropagation starts below, learning weights for the neural network\n",
    "    \n",
    "    num_input_units = 400\n",
    "    num_hidden_layer_units = 25\n",
    "    num_output_units = 10\n",
    "    \n",
    "    # initialise the weights randomly for symmetry breaking\n",
    "    init_epsilon = 0.12 # recommended in the assignment handout\n",
    "    theta1 = randomly_initialize(num_hidden_layer_units, num_input_units + 1) * 2 * init_epsilon - init_epsilon\n",
    "    theta2 = randomly_initialize(num_hidden_layer_units, num_input_units + 1) * 2 * init_epsilon - init_epsilon\n",
    "#     print('theta1 random:\\n'+str(theta1))\n",
    "#     print()\n",
    "#     print('theta2 random:\\n'+str(theta2))\n",
    "\n"
   ]
  },
  {
   "cell_type": "code",
   "execution_count": 162,
   "metadata": {},
   "outputs": [
    {
     "name": "stdout",
     "output_type": "stream",
     "text": [
      "theta1.shape: (25, 401)\n",
      "theta2.shape: (10, 26)\n",
      "Without regularization, J: 0.2876291651613189\n",
      "With regularization: 0.37904640005669177\n"
     ]
    }
   ],
   "source": [
    "if __name__ == '__main__':\n",
    "    main()"
   ]
  }
 ],
 "metadata": {
  "kernelspec": {
   "display_name": "Python 3",
   "language": "python",
   "name": "python3"
  },
  "language_info": {
   "codemirror_mode": {
    "name": "ipython",
    "version": 3
   },
   "file_extension": ".py",
   "mimetype": "text/x-python",
   "name": "python",
   "nbconvert_exporter": "python",
   "pygments_lexer": "ipython3",
   "version": "3.6.5"
  }
 },
 "nbformat": 4,
 "nbformat_minor": 2
}
